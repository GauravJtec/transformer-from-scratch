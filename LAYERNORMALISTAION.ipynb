{
 "cells": [
  {
   "cell_type": "code",
   "execution_count": 1,
   "id": "1ee239e8-1e11-42a5-84bb-1bf1f5ceeab3",
   "metadata": {},
   "outputs": [],
   "source": [
    "import torch\n",
    "from torch import nn"
   ]
  },

  {
   "cell_type": "code",
   "execution_count": 2,
   "id": "1b7c2370-f0ce-4b48-a3cc-890e9653f16f",
   "metadata": {},
   "outputs": [
    {
     "data": {
      "text/plain": [
       "torch.Size([2, 1, 3])"
      ]
     },
     "execution_count": 2,
     "metadata": {},
     "output_type": "execute_result"
    }
   ],
   "source": [
    "inputs=torch.tensor([[[0.2,.1,.3],[0.5,0.1,0.1]]])\n",
    "B,S,E=inputs.size()\n",
    "inputs=inputs.reshape(S,B,E)\n",
    "inputs.size()"
   ]
  },
  {
   "cell_type": "code",
   "execution_count": 4,
   "id": "042e1558-f232-4144-9c5c-6337ee201456",
   "metadata": {},
   "outputs": [],
   "source": [
    "parameter_shape=inputs.size()[-2:]\n",
    "gamma=nn.Parameter(torch.ones(parameter_shape))\n",
    "beta=nn.Parameter(torch.zeros(parameter_shape))"
   ]
  },
  {
   "cell_type": "code",
   "execution_count": 7,
   "id": "5851962d-74b1-46ad-94b0-11d4f930cd2b",
   "metadata": {},
   "outputs": [],
   "source": [
    "dims=[-(i+1) for i in range (len(parameter_shape))]"
   ]
  },
  {
   "cell_type": "code",
   "execution_count": 8,
   "id": "e16bf425-5fc9-43ef-851e-7d0aa6d711f0",
   "metadata": {},
   "outputs": [
    {
     "data": {
      "text/plain": [
       "[-1, -2]"
      ]
     },
     "execution_count": 8,
     "metadata": {},
     "output_type": "execute_result"
    }
   ],
   "source": [
    "dims"
   ]
  },
  {
   "cell_type": "code",
   "execution_count": 9,
   "id": "330307d3-9c55-4be6-827a-6c6f342ecda3",
   "metadata": {},
   "outputs": [
    {
     "data": {
      "text/plain": [
       "torch.Size([2, 1, 1])"
      ]
     },
     "execution_count": 9,
     "metadata": {},
     "output_type": "execute_result"
    }
   ],
   "source": [
    "mean=inputs.mean(dim=dims,keepdim=True)\n",
    "mean.size()"
   ]
  },
  {
   "cell_type": "code",
   "execution_count": 12,
   "id": "0dbc9e54-9df9-4e66-93bd-6542c4cd454f",
   "metadata": {},
   "outputs": [
    {
     "data": {
      "text/plain": [
       "tensor([[[0.0817]],\n",
       "\n",
       "        [[0.1886]]])"
      ]
     },
     "execution_count": 12,
     "metadata": {},
     "output_type": "execute_result"
    }
   ],
   "source": [
    "vars=((inputs - mean) **2).mean(dim=dims,keepdim=True)\n",
    "epsilon=1e-5\n",
    "std=(vars + epsilon).sqrt()\n",
    "std"
   ]
  },
  {
   "cell_type": "code",
   "execution_count": 13,
   "id": "ee34ed3d-a731-4471-a785-39323ad59e4a",
   "metadata": {},
   "outputs": [
    {
     "data": {
      "text/plain": [
       "tensor([[[ 0.0000, -1.2238,  1.2238]],\n",
       "\n",
       "        [[ 1.4140, -0.7070, -0.7070]]])"
      ]
     },
     "execution_count": 13,
     "metadata": {},
     "output_type": "execute_result"
    }
   ],
   "source": [
    "y=(inputs-mean)/std\n",
    "y"
   ]
  },
  {
   "cell_type": "code",
   "execution_count": 14,
   "id": "b629a37b-c89a-45e9-a443-67bab641b50d",
   "metadata": {},
   "outputs": [],
   "source": [
    "out=gamma*y+beta"
   ]
  },
  {
   "cell_type": "code",
   "execution_count": 15,
   "id": "192ecbcc-9c8e-4a25-b769-e4ec2d9aa4a3",
   "metadata": {},
   "outputs": [
    {
     "data": {
      "text/plain": [
       "tensor([[[ 0.0000, -1.2238,  1.2238]],\n",
       "\n",
       "        [[ 1.4140, -0.7070, -0.7070]]], grad_fn=<AddBackward0>)"
      ]
     },
     "execution_count": 15,
     "metadata": {},
     "output_type": "execute_result"
    }
   ],
   "source": [
    "out"
   ]
  },
  {
   "cell_type": "code",
   "execution_count": 35,
   "id": "4411bd5a-df5b-4802-9bbd-90c4eff49945",
   "metadata": {},
   "outputs": [],
   "source": [
    "import torch \n",
    "from torch import nn\n",
    "\n",
    "class LayerNormalization():\n",
    "    def __init__(self,parameters_shape,eps=1e-5):\n",
    "        self.parameters_shape=parameters_shape\n",
    "        self.eps=eps\n",
    "        self.gamma=nn.Parameter(torch.ones(parameters_shape))\n",
    "        self.beta=nn.Parameter(torch.zeros(parameters_shape))\n",
    "\n",
    "    def forward(self,input):\n",
    "        dims=[-(i+1) for i in range (len(self.parameters_shape))]\n",
    "        mean=inputs.mean(dim=dims,keepdim=True)\n",
    "        vars=((inputs - mean) **2).mean(dim=dims,keepdim=True)\n",
    "        std=(vars + self.eps).sqrt()\n",
    "        y=(inputs-mean)/std\n",
    "        print(f\"y \\n : ({y.size()})=\\n {y}\")\n",
    "        out=self.gamma * y+ self.beta\n",
    "        print(f\"out \\n ({out.size()})=\\n{out}\")\n",
    "        return out\n",
    "        \n",
    "        "
   ]
  },
  {
   "cell_type": "code",
   "execution_count": 36,
   "id": "86fee020-54bf-4325-ba51-80506242dd28",
   "metadata": {},
   "outputs": [
    {
     "name": "stdout",
     "output_type": "stream",
     "text": [
      "input \n",
      "(torch.Size([5, 3, 8]))=\n",
      "tensor([[[ 1.2396,  0.3921,  0.1825,  0.2751, -1.4760,  0.4640, -1.6733,\n",
      "           0.6763],\n",
      "         [ 1.9708,  1.4785,  0.1735, -1.1877,  0.2759, -1.2383,  0.5617,\n",
      "           1.3385],\n",
      "         [ 0.6429, -1.5699, -0.7098,  0.1701, -1.1864,  1.1818,  1.4489,\n",
      "          -0.7856]],\n",
      "\n",
      "        [[-0.6535,  0.6748,  0.7462, -0.0623, -0.8187, -1.2235, -0.9147,\n",
      "          -0.9455],\n",
      "         [ 1.2100, -0.3398, -0.3586,  0.9061,  0.2991, -1.7346,  0.3659,\n",
      "           0.1648],\n",
      "         [ 0.2576, -0.3584, -0.2585, -0.2607, -0.9804, -1.0118, -0.1088,\n",
      "          -0.3156]],\n",
      "\n",
      "        [[ 0.1399,  0.5173, -0.8558, -0.2992,  0.4754,  1.3691,  1.0444,\n",
      "           0.8365],\n",
      "         [-0.5918,  0.4880, -0.0514, -1.0572,  0.5755, -0.6108,  0.9089,\n",
      "           0.5272],\n",
      "         [-0.8563, -0.1981,  2.2380, -0.8900,  0.9122, -1.6969, -0.3610,\n",
      "           0.7996]],\n",
      "\n",
      "        [[ 0.1404, -0.0188,  0.6171,  0.0619,  0.3363,  1.1549, -2.7627,\n",
      "          -0.3847],\n",
      "         [ 0.8165,  1.4495,  0.1336, -0.0625, -0.3031, -0.5861,  1.5655,\n",
      "          -0.6990],\n",
      "         [ 0.0294, -1.2297,  1.5024, -1.4110, -0.1876, -1.1979,  1.1125,\n",
      "           0.6781]],\n",
      "\n",
      "        [[ 0.9852,  0.1706, -0.5498,  0.1526, -1.2512, -0.1272,  0.1822,\n",
      "          -0.3305],\n",
      "         [-0.6238, -0.4964,  0.9748, -1.7738,  0.0074, -0.5802, -1.6052,\n",
      "          -0.1230],\n",
      "         [-0.3141, -0.6440, -0.1366,  0.4960,  1.5074, -0.5672, -0.4633,\n",
      "          -0.0773]]])\n"
     ]
    }
   ],
   "source": [
    "batch_size=3\n",
    "sentence_length=5\n",
    "embedding_dim=8\n",
    "inputs=torch.randn(sentence_length,batch_size,embedding_dim)\n",
    "print(f\"input \\n({inputs.size()})=\\n{inputs}\")"
   ]
  },
  {
   "cell_type": "code",
   "execution_count": 37,
   "id": "ad62ff57-ad67-4147-b84f-aba723099045",
   "metadata": {},
   "outputs": [],
   "source": [
    "layer_norm=LayerNormalization(inputs.size()[-1:])\n"
   ]
  },
  {
   "cell_type": "code",
   "execution_count": 38,
   "id": "628f10dd-19c0-4b43-aca7-989c50140d38",
   "metadata": {},
   "outputs": [
    {
     "name": "stdout",
     "output_type": "stream",
     "text": [
      "y \n",
      " : (torch.Size([5, 3, 8]))=\n",
      " tensor([[[ 1.2741,  0.3959,  0.1787,  0.2747, -1.5399,  0.4704, -1.7444,\n",
      "           0.6904],\n",
      "         [ 1.3993,  0.9547, -0.2241, -1.4537, -0.1316, -1.4993,  0.1265,\n",
      "           0.8282],\n",
      "         [ 0.7073, -1.3966, -0.5788,  0.2578, -1.0320,  1.2196,  1.4736,\n",
      "          -0.6510]],\n",
      "\n",
      "        [[-0.3562,  1.5076,  1.6078,  0.4733, -0.5880, -1.1560, -0.7227,\n",
      "          -0.7659],\n",
      "         [ 1.3509, -0.4762, -0.4983,  0.9927,  0.2770, -2.1206,  0.3558,\n",
      "           0.1186],\n",
      "         [ 1.5970,  0.0531,  0.3034,  0.2981, -1.5060, -1.5847,  0.6787,\n",
      "           0.1603]],\n",
      "\n",
      "        [[-0.3877,  0.1675, -1.8521, -1.0335,  0.1058,  1.4203,  0.9428,\n",
      "           0.6369],\n",
      "         [-0.9286,  0.7009, -0.1131, -1.6310,  0.8329, -0.9573,  1.3361,\n",
      "           0.7601],\n",
      "         [-0.7229, -0.1629,  1.9095, -0.7515,  0.7816, -1.4379, -0.3016,\n",
      "           0.6858]],\n",
      "\n",
      "        [[ 0.2265,  0.0807,  0.6630,  0.1546,  0.4059,  1.1555, -2.4319,\n",
      "          -0.2543],\n",
      "         [ 0.6361,  1.3999, -0.1879, -0.4244, -0.7148, -1.0563,  1.5399,\n",
      "          -1.1925],\n",
      "         [ 0.1115, -1.0845,  1.5106, -1.2567, -0.0946, -1.0543,  1.1403,\n",
      "           0.7277]],\n",
      "\n",
      "        [[ 1.7728,  0.4372, -0.7441,  0.4077, -1.8941, -0.0511,  0.4561,\n",
      "          -0.3844],\n",
      "         [-0.1169,  0.0378,  1.8228, -1.5121,  0.6490, -0.0639, -1.3076,\n",
      "           0.4908],\n",
      "         [-0.4319, -0.9245, -0.1668,  0.7778,  2.2881, -0.8098, -0.6546,\n",
      "          -0.0783]]])\n",
      "out \n",
      " (torch.Size([5, 3, 8]))=\n",
      "tensor([[[ 1.2741,  0.3959,  0.1787,  0.2747, -1.5399,  0.4704, -1.7444,\n",
      "           0.6904],\n",
      "         [ 1.3993,  0.9547, -0.2241, -1.4537, -0.1316, -1.4993,  0.1265,\n",
      "           0.8282],\n",
      "         [ 0.7073, -1.3966, -0.5788,  0.2578, -1.0320,  1.2196,  1.4736,\n",
      "          -0.6510]],\n",
      "\n",
      "        [[-0.3562,  1.5076,  1.6078,  0.4733, -0.5880, -1.1560, -0.7227,\n",
      "          -0.7659],\n",
      "         [ 1.3509, -0.4762, -0.4983,  0.9927,  0.2770, -2.1206,  0.3558,\n",
      "           0.1186],\n",
      "         [ 1.5970,  0.0531,  0.3034,  0.2981, -1.5060, -1.5847,  0.6787,\n",
      "           0.1603]],\n",
      "\n",
      "        [[-0.3877,  0.1675, -1.8521, -1.0335,  0.1058,  1.4203,  0.9428,\n",
      "           0.6369],\n",
      "         [-0.9286,  0.7009, -0.1131, -1.6310,  0.8329, -0.9573,  1.3361,\n",
      "           0.7601],\n",
      "         [-0.7229, -0.1629,  1.9095, -0.7515,  0.7816, -1.4379, -0.3016,\n",
      "           0.6858]],\n",
      "\n",
      "        [[ 0.2265,  0.0807,  0.6630,  0.1546,  0.4059,  1.1555, -2.4319,\n",
      "          -0.2543],\n",
      "         [ 0.6361,  1.3999, -0.1879, -0.4244, -0.7148, -1.0563,  1.5399,\n",
      "          -1.1925],\n",
      "         [ 0.1115, -1.0845,  1.5106, -1.2567, -0.0946, -1.0543,  1.1403,\n",
      "           0.7277]],\n",
      "\n",
      "        [[ 1.7728,  0.4372, -0.7441,  0.4077, -1.8941, -0.0511,  0.4561,\n",
      "          -0.3844],\n",
      "         [-0.1169,  0.0378,  1.8228, -1.5121,  0.6490, -0.0639, -1.3076,\n",
      "           0.4908],\n",
      "         [-0.4319, -0.9245, -0.1668,  0.7778,  2.2881, -0.8098, -0.6546,\n",
      "          -0.0783]]], grad_fn=<AddBackward0>)\n"
     ]
    }
   ],
   "source": [
    "out=layer_norm.forward(inputs)"
   ]
  },
  {
   "cell_type": "code",
   "execution_count": null,
   "id": "2999616b-f00e-4912-942a-21152f673933",
   "metadata": {},
   "outputs": [],
   "source": []
  },
  {
   "cell_type": "code",
   "execution_count": null,
   "id": "13fd5693-5ee0-4486-8a33-69bbda61d68f",
   "metadata": {},
   "outputs": [],
   "source": []
  }
 ],
 "metadata": {
  "kernelspec": {
   "display_name": "Python 3 (ipykernel)",
   "language": "python",
   "name": "python3"
  },
  "language_info": {
   "codemirror_mode": {
    "name": "ipython",
    "version": 3
   },
   "file_extension": ".py",
   "mimetype": "text/x-python",
   "name": "python",
   "nbconvert_exporter": "python",
   "pygments_lexer": "ipython3",
   "version": "3.9.0"
  }
 },
 "nbformat": 4,
 "nbformat_minor": 5
}
