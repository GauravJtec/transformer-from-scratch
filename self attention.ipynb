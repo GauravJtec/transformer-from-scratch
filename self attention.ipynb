{
 "cells": [
  {
   "cell_type": "code",
   "execution_count": 1,
   "id": "15bc2686-ab75-4889-8dc7-2732bd843ee2",
   "metadata": {},
   "outputs": [],
   "source": [
    "import numpy as np\n",
    "import math"
   ]
  },
  {
   "cell_type": "code",
   "execution_count": 6,
   "id": "c4379b32-737e-459a-8666-038e5d5c6ad5",
   "metadata": {},
   "outputs": [],
   "source": [
    "L,d_k,d_v=4,8,8\n",
    "q=np.random.randn(L,d_k)\n",
    "k=np.random.randn(L,d_k)\n",
    "v=np.random.randn(L,d_v)"
   ]
  },
  {
   "cell_type": "code",
   "execution_count": 8,
   "id": "68096bd6-9a40-4753-bb29-9930c9fbd99f",
   "metadata": {},
   "outputs": [
    {
     "name": "stdout",
     "output_type": "stream",
     "text": [
      "Q\n",
      " [[-0.29725018 -0.17409652 -0.37796023  0.21325724  0.3815085   1.48790813\n",
      "   0.43688012  0.05565026]\n",
      " [ 1.08327293 -2.11086282 -0.29884714  1.38193404 -0.92846093 -0.36138767\n",
      "   0.38922433 -1.35385075]\n",
      " [ 0.97586275  0.19866699 -0.56891277 -0.65697007  0.22307764 -0.94576992\n",
      "   0.15882208 -0.19833581]\n",
      " [-0.02048442  0.67206763 -0.02016706  1.23347455 -1.97540837 -0.42170722\n",
      "   0.42822197 -0.78822247]]\n",
      "K\n",
      " [[-1.03348115 -1.38573026  0.57962195  0.91446585 -0.71150553 -0.78627456\n",
      "  -0.66790129  0.53767363]\n",
      " [-1.11748591 -0.41222538 -0.68349949 -0.26533905  1.1313857  -0.04432358\n",
      "   0.43246304  0.14210002]\n",
      " [ 0.69557191  0.33814537  1.64098152  0.53406348  0.75702974 -0.90331458\n",
      "  -1.10662855  0.49424   ]\n",
      " [ 0.28216546 -0.92862296  1.71674926 -0.15785412  1.04715893 -0.34376946\n",
      "   0.31852321  1.42376468]]\n",
      "V\n",
      " [[-0.53815162 -0.78721363 -0.29006392  0.00255168 -0.94004942  1.72260867\n",
      "  -0.31544045  0.60468867]\n",
      " [-0.24071203 -1.46755208  1.12249819 -1.52201328  0.53413412 -0.8238491\n",
      "   0.59205916 -0.01103577]\n",
      " [ 1.13370981 -0.84901172 -0.08997432  0.23930742  1.06862912 -1.62332688\n",
      "   1.23822332 -1.75593772]\n",
      " [ 1.05928139 -0.68431916  0.28109644  0.16123225 -0.61106802 -0.66210564\n",
      "   0.00944585  2.12948678]]\n"
     ]
    }
   ],
   "source": [
    "print(\"Q\\n\",q)\n",
    "print(\"K\\n\",k)\n",
    "print(\"V\\n\",v)"
   ]
  },
  {
   "cell_type": "code",
   "execution_count": 9,
   "id": "7fc7692a-be2e-4fcb-bddd-1cba47e17291",
   "metadata": {},
   "outputs": [
    {
     "data": {
      "text/plain": [
       "array([[-1.17882514,  1.16821629, -2.28315691, -0.49833821],\n",
       "       [ 2.85291917, -1.56129671, -1.18892615, -1.11693171],\n",
       "       [-1.84216921, -0.27442914,  0.2109436 , -0.45517755],\n",
       "       [ 1.23342208, -2.71073054, -1.13929421, -3.76864937]])"
      ]
     },
     "execution_count": 9,
     "metadata": {},
     "output_type": "execute_result"
    }
   ],
   "source": [
    "np.matmul(q,k.T)"
   ]
  },
  {
   "cell_type": "code",
   "execution_count": 10,
   "id": "c5cf279f-bf16-47cc-b3c3-0371e0320e25",
   "metadata": {},
   "outputs": [
    {
     "data": {
      "text/plain": [
       "(0.716621957748681, 0.71785893613005, 2.4810221724622696)"
      ]
     },
     "execution_count": 10,
     "metadata": {},
     "output_type": "execute_result"
    }
   ],
   "source": [
    "#  NEEd of sqrt(d_k) in denominator:\n",
    "\n",
    "q.var(),k.var(),np.matmul(q,k.T).var()"
   ]
  },
  {
   "cell_type": "code",
   "execution_count": 11,
   "id": "abe57b9f-c16e-4e5b-86f7-1b79033edea7",
   "metadata": {},
   "outputs": [
    {
     "data": {
      "text/plain": [
       "(0.716621957748681, 0.71785893613005, 0.3101277715577836)"
      ]
     },
     "execution_count": 11,
     "metadata": {},
     "output_type": "execute_result"
    }
   ],
   "source": [
    "scaled=np.matmul(q,k.T)/math.sqrt(d_k)\n",
    "q.var(),k.var(),scaled.var()"
   ]
  },
  {
   "cell_type": "code",
   "execution_count": 12,
   "id": "aaa55390-adee-450b-8042-6f0f68bd4ab7",
   "metadata": {},
   "outputs": [
    {
     "data": {
      "text/plain": [
       "array([[-0.41677763,  0.41302683, -0.80721787, -0.17618916],\n",
       "       [ 1.00865925, -0.55200175, -0.42034887, -0.39489499],\n",
       "       [-0.65130517, -0.09702535,  0.07457983, -0.16092957],\n",
       "       [ 0.43608056, -0.95838797, -0.40280133, -1.33241876]])"
      ]
     },
     "execution_count": 12,
     "metadata": {},
     "output_type": "execute_result"
    }
   ],
   "source": [
    "scaled"
   ]
  },
  {
   "cell_type": "code",
   "execution_count": 15,
   "id": "7a138fa8-17e9-4716-b1b5-058f39e7dd3a",
   "metadata": {},
   "outputs": [],
   "source": [
    "#Making\n",
    "mask=np.tril(np.ones((L,L)))           "
   ]
  },
  {
   "cell_type": "code",
   "execution_count": 16,
   "id": "953e36bb-a76c-495a-bf23-e2e0b14a8e17",
   "metadata": {},
   "outputs": [
    {
     "data": {
      "text/plain": [
       "array([[1., 0., 0., 0.],\n",
       "       [1., 1., 0., 0.],\n",
       "       [1., 1., 1., 0.],\n",
       "       [1., 1., 1., 1.]])"
      ]
     },
     "execution_count": 16,
     "metadata": {},
     "output_type": "execute_result"
    }
   ],
   "source": [
    "mask"
   ]
  },
  {
   "cell_type": "code",
   "execution_count": 17,
   "id": "4c6610cf-3309-4a82-8757-51bf8b413da7",
   "metadata": {},
   "outputs": [],
   "source": [
    "mask[mask ==0]=-np.infty\n",
    "mask[mask==1]=0"
   ]
  },
  {
   "cell_type": "code",
   "execution_count": 18,
   "id": "d939f218-ee4e-435c-b5f5-8cf9a54f8180",
   "metadata": {},
   "outputs": [
    {
     "data": {
      "text/plain": [
       "array([[  0., -inf, -inf, -inf],\n",
       "       [  0.,   0., -inf, -inf],\n",
       "       [  0.,   0.,   0., -inf],\n",
       "       [  0.,   0.,   0.,   0.]])"
      ]
     },
     "execution_count": 18,
     "metadata": {},
     "output_type": "execute_result"
    }
   ],
   "source": [
    "mask"
   ]
  },
  {
   "cell_type": "code",
   "execution_count": 19,
   "id": "a754ce7f-8751-48b7-9013-fde10e19639b",
   "metadata": {},
   "outputs": [
    {
     "data": {
      "text/plain": [
       "array([[-0.41677763,        -inf,        -inf,        -inf],\n",
       "       [ 1.00865925, -0.55200175,        -inf,        -inf],\n",
       "       [-0.65130517, -0.09702535,  0.07457983,        -inf],\n",
       "       [ 0.43608056, -0.95838797, -0.40280133, -1.33241876]])"
      ]
     },
     "execution_count": 19,
     "metadata": {},
     "output_type": "execute_result"
    }
   ],
   "source": [
    "scaled+mask"
   ]
  },
  {
   "cell_type": "code",
   "execution_count": 20,
   "id": "77420362-4852-4ed6-a420-e42da961406c",
   "metadata": {},
   "outputs": [],
   "source": [
    "#softmax\n",
    "\n",
    "def softmax(x):\n",
    "    return (np.exp(x).T/np.sum(np.exp(x),axis=-1)).T"
   ]
  },
  {
   "cell_type": "code",
   "execution_count": 21,
   "id": "049942b1-32f3-4e56-90a4-165e9f85c89e",
   "metadata": {},
   "outputs": [],
   "source": [
    "attention=softmax(scaled+mask)"
   ]
  },
  {
   "cell_type": "code",
   "execution_count": 22,
   "id": "31123572-fa5b-42ae-ba45-38fa0c99e606",
   "metadata": {},
   "outputs": [
    {
     "data": {
      "text/plain": [
       "array([[1.        , 0.        , 0.        , 0.        ],\n",
       "       [0.82644818, 0.17355182, 0.        , 0.        ],\n",
       "       [0.20801931, 0.36209649, 0.42988421, 0.        ],\n",
       "       [0.54032234, 0.13398092, 0.2335238 , 0.09217294]])"
      ]
     },
     "execution_count": 22,
     "metadata": {},
     "output_type": "execute_result"
    }
   ],
   "source": [
    "attention"
   ]
  },
  {
   "cell_type": "code",
   "execution_count": 23,
   "id": "7cae6652-316b-4e3e-b4f8-a58451a3cbb6",
   "metadata": {},
   "outputs": [
    {
     "data": {
      "text/plain": [
       "array([[-5.38151623e-01, -7.87213629e-01, -2.90063923e-01,\n",
       "         2.55167575e-03, -9.40049421e-01,  1.72260867e+00,\n",
       "        -3.15440451e-01,  6.04688669e-01],\n",
       "       [-4.86530441e-01, -9.05287605e-01, -4.49111980e-02,\n",
       "        -2.62039347e-01, -6.84202186e-01,  1.28066630e+00,\n",
       "        -1.57942243e-01,  4.97828571e-01],\n",
       "       [ 2.88257038e-01, -1.06012782e+00,  3.07435216e-01,\n",
       "        -4.47710381e-01,  4.57246443e-01, -6.37819591e-01,\n",
       "         6.81057487e-01, -6.33058994e-01],\n",
       "       [ 3.93591387e-02, -8.83313238e-01, -1.43634466e-03,\n",
       "        -1.31796776e-01, -2.43139528e-01,  3.80270216e-01,\n",
       "         1.98910372e-01,  1.11476017e-01]])"
      ]
     },
     "execution_count": 23,
     "metadata": {},
     "output_type": "execute_result"
    }
   ],
   "source": [
    "new_v=np.matmul(attention,v)\n",
    "new_v"
   ]
  },
  {
   "cell_type": "code",
   "execution_count": 24,
   "id": "64b97508-db21-4e9f-b42e-12ab0ee101ad",
   "metadata": {},
   "outputs": [
    {
     "data": {
      "text/plain": [
       "array([[-0.53815162, -0.78721363, -0.29006392,  0.00255168, -0.94004942,\n",
       "         1.72260867, -0.31544045,  0.60468867],\n",
       "       [-0.24071203, -1.46755208,  1.12249819, -1.52201328,  0.53413412,\n",
       "        -0.8238491 ,  0.59205916, -0.01103577],\n",
       "       [ 1.13370981, -0.84901172, -0.08997432,  0.23930742,  1.06862912,\n",
       "        -1.62332688,  1.23822332, -1.75593772],\n",
       "       [ 1.05928139, -0.68431916,  0.28109644,  0.16123225, -0.61106802,\n",
       "        -0.66210564,  0.00944585,  2.12948678]])"
      ]
     },
     "execution_count": 24,
     "metadata": {},
     "output_type": "execute_result"
    }
   ],
   "source": [
    "v"
   ]
  },
  {
   "cell_type": "code",
   "execution_count": 25,
   "id": "d4623392-49cf-4c12-9299-392fedfc07bd",
   "metadata": {},
   "outputs": [],
   "source": [
    "def softmax(x):\n",
    "     return (np.exp(x).T/np.sum(np.exp(x),axis=-1)).T\n",
    "\n",
    "def scaled_dot_product_attention(q,k,v,mask=None):\n",
    "    d_k=q.shape[-1]\n",
    "    scaled=np.matmul(q,k.T)/math.sqrt(d_k)\n",
    "    if mask is not None:\n",
    "        scaled=scaled+mask\n",
    "    attention=softmax(scaled)\n",
    "    out=np.matmul(attention,v)\n",
    "    return out,attention\n",
    "    "
   ]
  },
  {
   "cell_type": "code",
   "execution_count": 27,
   "id": "2088820c-fc97-49e6-9079-78bd8fc53ec7",
   "metadata": {},
   "outputs": [
    {
     "name": "stdout",
     "output_type": "stream",
     "text": [
      "Q\n",
      " [[-0.29725018 -0.17409652 -0.37796023  0.21325724  0.3815085   1.48790813\n",
      "   0.43688012  0.05565026]\n",
      " [ 1.08327293 -2.11086282 -0.29884714  1.38193404 -0.92846093 -0.36138767\n",
      "   0.38922433 -1.35385075]\n",
      " [ 0.97586275  0.19866699 -0.56891277 -0.65697007  0.22307764 -0.94576992\n",
      "   0.15882208 -0.19833581]\n",
      " [-0.02048442  0.67206763 -0.02016706  1.23347455 -1.97540837 -0.42170722\n",
      "   0.42822197 -0.78822247]]\n",
      "K\n",
      " [[-1.03348115 -1.38573026  0.57962195  0.91446585 -0.71150553 -0.78627456\n",
      "  -0.66790129  0.53767363]\n",
      " [-1.11748591 -0.41222538 -0.68349949 -0.26533905  1.1313857  -0.04432358\n",
      "   0.43246304  0.14210002]\n",
      " [ 0.69557191  0.33814537  1.64098152  0.53406348  0.75702974 -0.90331458\n",
      "  -1.10662855  0.49424   ]\n",
      " [ 0.28216546 -0.92862296  1.71674926 -0.15785412  1.04715893 -0.34376946\n",
      "   0.31852321  1.42376468]]\n",
      "V\n",
      " [[-0.53815162 -0.78721363 -0.29006392  0.00255168 -0.94004942  1.72260867\n",
      "  -0.31544045  0.60468867]\n",
      " [-0.24071203 -1.46755208  1.12249819 -1.52201328  0.53413412 -0.8238491\n",
      "   0.59205916 -0.01103577]\n",
      " [ 1.13370981 -0.84901172 -0.08997432  0.23930742  1.06862912 -1.62332688\n",
      "   1.23822332 -1.75593772]\n",
      " [ 1.05928139 -0.68431916  0.28109644  0.16123225 -0.61106802 -0.66210564\n",
      "   0.00944585  2.12948678]]\n",
      "New V\n",
      " [[ 0.19546953 -1.06782666  0.49227885 -0.59527074  0.0439898  -0.40200651\n",
      "   0.36096965  0.40058946]\n",
      " [-0.03352605 -0.86530714 -0.00402524 -0.12984592 -0.42592107  0.58872576\n",
      "   0.06360261  0.41586666]\n",
      " [ 0.48375301 -0.96484019  0.30075692 -0.29331081  0.18637151 -0.64397741\n",
      "   0.51076797  0.06739432]\n",
      " [ 0.03935914 -0.88331324 -0.00143634 -0.13179678 -0.24313953  0.38027022\n",
      "   0.19891037  0.11147602]]\n",
      "Attention\n",
      " [[0.19078047 0.43743488 0.12911238 0.24267227]\n",
      " [0.58987804 0.12387275 0.14130317 0.14494604]\n",
      " [0.15527527 0.27028563 0.32088554 0.25355356]\n",
      " [0.54032234 0.13398092 0.2335238  0.09217294]]\n"
     ]
    }
   ],
   "source": [
    "values,attention=scaled_dot_product_attention(q,k,v,mask=None)\n",
    "print(\"Q\\n\",q)\n",
    "print(\"K\\n\",k)\n",
    "print(\"V\\n\",v)\n",
    "print(\"New V\\n\",values)\n",
    "print(\"Attention\\n\",attention)\n"
   ]
  },
  {
   "cell_type": "code",
   "execution_count": null,
   "id": "59a9f870-e70a-4411-8f3e-ecbc4391569b",
   "metadata": {},
   "outputs": [],
   "source": []
  }
 ],
 "metadata": {
  "kernelspec": {
   "display_name": "Python 3 (ipykernel)",
   "language": "python",
   "name": "python3"
  },
  "language_info": {
   "codemirror_mode": {
    "name": "ipython",
    "version": 3
   },
   "file_extension": ".py",
   "mimetype": "text/x-python",
   "name": "python",
   "nbconvert_exporter": "python",
   "pygments_lexer": "ipython3",
   "version": "3.9.0"
  }
 },
 "nbformat": 4,
 "nbformat_minor": 5
}
